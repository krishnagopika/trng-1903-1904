{
 "cells": [
  {
   "cell_type": "code",
   "execution_count": null,
   "metadata": {},
   "outputs": [],
   "source": [
    "import json\n",
    "\n",
    "\n",
    "# loading data from json file\n",
    "f = open(\"week-1/user.json\", \"r\")\n",
    "\n",
    "data = json.load(f)\n",
    "\n",
    "print(data, type(data))\n",
    "print(data['name'])\n",
    "\n",
    "f.close()\n",
    "\n",
    "# adding data to the json file\n",
    "\n",
    "f = open(\"week-1/user.json\", \"a\")\n",
    "\n",
    "eod = f.tell()\n",
    "user_data = {\n",
    "    \"id\": 2,\n",
    "    \"name\" :\"Jane Doe\",\n",
    "    \"Gender\": \"F\",\n",
    "    \"email\": \"jane.doe@email.com\"\n",
    "}\n",
    "\n",
    "json.dump(user_data, f)\n",
    "\n",
    "f.close()\n",
    "\n",
    "with open(\"week-1/user.json\", \"r\") as f:\n",
    "    f.seek(eod)\n",
    "    print(f.read())\n",
    "\n",
    "\n",
    "\n",
    "user_data = \"\"\"\n",
    "{\n",
    "    \"id\": 2,\n",
    "    \"name\" :\"Jane Doe\",\n",
    "    \"Gender\": \"F\",\n",
    "    \"email\": \"jane.doe@email.com\"\n",
    "}\n",
    "\"\"\"\n",
    "\n",
    "# json json string to dict\n",
    "print(json.loads(user_data))\n",
    "\n",
    "\n",
    "user_data = json.loads(user_data)\n",
    "\n",
    "# converts dict to json str\n",
    "print(json.dumps(user_data))"
   ]
  },
  {
   "cell_type": "code",
   "execution_count": 60,
   "metadata": {},
   "outputs": [
    {
     "name": "stdout",
     "output_type": "stream",
     "text": [
      "<re.Match object; span=(0, 3), match='kgi'>\n"
     ]
    }
   ],
   "source": [
    "# Regexp\n",
    "\n",
    "import re\n",
    "\n",
    "# match checks for at the begining of the string\n",
    "# search checkes anywhere in the string\n",
    "# fullmatch checkes for the entire string\n",
    "# findall returns all matches\n",
    "\n",
    "print(re.fullmatch('[0-9]{2}-[0-9]{2}-[0-9]{4}', \"01-07-2001\"))\n",
    "\n",
    "print(re.fullmatch('[\\w.]*[@][A-Za-z]*[.][A-Za-z]*', \"krishna.gopikaurlaganti@revature.com\"))\n",
    "\n",
    "\n"
   ]
  },
  {
   "cell_type": "code",
   "execution_count": null,
   "metadata": {},
   "outputs": [],
   "source": []
  }
 ],
 "metadata": {
  "kernelspec": {
   "display_name": "Python 3",
   "language": "python",
   "name": "python3"
  },
  "language_info": {
   "codemirror_mode": {
    "name": "ipython",
    "version": 3
   },
   "file_extension": ".py",
   "mimetype": "text/x-python",
   "name": "python",
   "nbconvert_exporter": "python",
   "pygments_lexer": "ipython3",
   "version": "3.12.0"
  }
 },
 "nbformat": 4,
 "nbformat_minor": 2
}
