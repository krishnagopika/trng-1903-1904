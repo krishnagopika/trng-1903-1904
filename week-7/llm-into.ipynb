{
 "cells": [
  {
   "cell_type": "markdown",
   "metadata": {},
   "source": [
    "# Lecture Plan\n",
    "\n",
    "1. AI, ML and Gen AI Introduction\n",
    "2. LLMs\n",
    "---"
   ]
  },
  {
   "cell_type": "markdown",
   "metadata": {},
   "source": [
    "### Artificial Intelligence\n",
    "\n",
    "Development of computer systems to perform tasks that require human Intelligence. Logical resoning, NLP, Problem solving. \n",
    "\n",
    "### Machine Learning\n",
    "\n",
    "- Subset of AI focusing on developing models that enable computers to learn from data without explicit programming.\n",
    "- ML Model:\n",
    "  - data prep\n",
    "  - train\n",
    "  - evaluate\n",
    "- The models performce is directly proportinal to the quality of training data and duration of training.\n",
    "\n",
    "f(x) = wx+ b\n",
    "\n",
    "Types of learning:\n",
    "\n",
    "- Supervised Learning\n",
    "- Unsupervised Learning\n",
    "  - Self Supervised Learning \n",
    "- Semi Supervised Learning\n",
    "\n",
    "### Generative AI\n",
    "\n",
    "Gen AI, generates text, images, videos, code, speech and other media.\n",
    "\n",
    "### LLM\n",
    "\n",
    "- LLMs are Langauge models that are trained to generate the next words or tokens, given some input text.\n",
    "- Natural Language Processing (NLP): Natural Language Underatanding (NLU) + Natural Lnaguage Generation (NLG) \n",
    "\n",
    "#### Examples\n",
    "\n",
    "- Open AI: GPT 2, 3, 3.5 turbo and 4, 4o.\n",
    "- Antropic: Claude 1, 2, 3 (sonnect)\n",
    "- Google: PaLM text-bision, chat-bision, gemini, gemma\n",
    "- Meta: LLama, LLama 2, llama 3\n",
    "- gork\n",
    "- Mistral AI\n",
    "---\n"
   ]
  }
 ],
 "metadata": {
  "kernelspec": {
   "display_name": ".venv",
   "language": "python",
   "name": "python3"
  },
  "language_info": {
   "codemirror_mode": {
    "name": "ipython",
    "version": 3
   },
   "file_extension": ".py",
   "mimetype": "text/x-python",
   "name": "python",
   "nbconvert_exporter": "python",
   "pygments_lexer": "ipython3",
   "version": "3.11.0"
  }
 },
 "nbformat": 4,
 "nbformat_minor": 2
}
